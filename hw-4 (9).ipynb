{
 "cells": [
  {
   "cell_type": "code",
   "execution_count": null,
   "metadata": {},
   "outputs": [],
   "source": [
    "%matplotlib inline\n",
    "import matplotlib.pyplot as plt\n",
    "import numpy as np"
   ]
  },
  {
   "cell_type": "markdown",
   "metadata": {},
   "source": [
    "## Romberg"
   ]
  },
  {
   "cell_type": "code",
   "execution_count": null,
   "metadata": {},
   "outputs": [],
   "source": [
    "def romberg_core(f,a,b,i):\n",
    "    h=b-a\n",
    "    dh=h/2.**i\n",
    "    #increment between new func evals\n",
    "    \n",
    "    K=h/2.**(i+1)\n",
    "    #cofactor\n",
    "    \n",
    "    #and the function evaluations\n",
    "    M=0.0\n",
    "    for j in range(2**i):\n",
    "        M+=f(a+.5*dh+j*dh)\n",
    "    return K*M"
   ]
  },
  {
   "cell_type": "code",
   "execution_count": null,
   "metadata": {
    "scrolled": true
   },
   "outputs": [],
   "source": [
    "def romberg_integration(f,a,b,tol):\n",
    "    i=0\n",
    "    imax=100\n",
    "    #define error estimate, set to large value\n",
    "    delta=100*np.fabs(tol)\n",
    "    #array of integral answers\n",
    "   \n",
    "    I=np.zeros(imax,dtype=float)\n",
    "    #get the zeroth romberg iteration\n",
    "    I[0]=.5*(b-a)*(f(a)+f(b))\n",
    "    i+=1\n",
    "    while(delta>tol):\n",
    "        I[i]=.5*I[i-1]+romberg_core(f,a,b,i)\n",
    "        delta=np.fabs((I[i]-I[i-1])/I[i])\n",
    "        print(i,I[i],delta)\n",
    "        if(delta>tol):\n",
    "            i+=1\n",
    "            if(i>=imax):\n",
    "                raise StopIteration('Stopping iterations after ',i)\n",
    "    return I[i], i"
   ]
  },
  {
   "cell_type": "markdown",
   "metadata": {},
   "source": [
    "## Trapezoid"
   ]
  },
  {
   "cell_type": "code",
   "execution_count": null,
   "metadata": {},
   "outputs": [],
   "source": [
    "def trapezoid_core(f,x,h):\n",
    "    return .5*h*(f(x+h)+f(x))"
   ]
  },
  {
   "cell_type": "code",
   "execution_count": null,
   "metadata": {},
   "outputs": [],
   "source": [
    "def trapezoid_integration(f,a,b,N):\n",
    "    x=np.linspace(a,b,N)\n",
    "    h=x[1]-x[0]\n",
    "    #define the value of the integral\n",
    "    Fint=0.0\n",
    "    \n",
    "    #len>length\n",
    "    for i in range(0,len(x)-1):\n",
    "        Fint+=trapezoid_core(f,x[i],h)\n",
    "    return Fint, i"
   ]
  },
  {
   "cell_type": "markdown",
   "metadata": {},
   "source": [
    "## Simpson's"
   ]
  },
  {
   "cell_type": "code",
   "execution_count": null,
   "metadata": {},
   "outputs": [],
   "source": [
    "def simpson_core(f,x,h):\n",
    "    return h*(f(x)+4*f(x+h)+f(x+2*h))/3"
   ]
  },
  {
   "cell_type": "code",
   "execution_count": null,
   "metadata": {},
   "outputs": [],
   "source": [
    "def simpson_integration(f,a,b,N):\n",
    "    x=np.linspace(a,b,N)\n",
    "    h=x[1]-x[0]\n",
    "    Fint=0\n",
    "    for i in range(0,len(x)-2,2):\n",
    "        Fint+=simpson_core(f,x[i],h)\n",
    "    #apply simpson's rule over the last inerval is N is even\n",
    "    if(N%2==0):\n",
    "        Fint+=simpson_core(f,x[i-2],.5*h)\n",
    "    return Fint, i"
   ]
  },
  {
   "cell_type": "code",
   "execution_count": null,
   "metadata": {},
   "outputs": [],
   "source": [
    "def func(x):\n",
    "    return np.exp(-2*x)*np.cos(10*x)"
   ]
  },
  {
   "cell_type": "code",
   "execution_count": null,
   "metadata": {},
   "outputs": [],
   "source": [
    "Romberg, Romberg_It=romberg_integration(func,0,np.pi,1.0e-5)\n",
    "print(\"Romberg integration returned %f using %d iterations\" % (Romberg,Romberg_It))"
   ]
  },
  {
   "cell_type": "code",
   "execution_count": null,
   "metadata": {},
   "outputs": [],
   "source": [
    "Trapezoid, Trapezoid_It=trapezoid_integration(func,0,np.pi,1000)\n",
    "print(\"Trapezoid integration return %f using %d intervals\" % (Trapezoid, Trapezoid_It))"
   ]
  },
  {
   "cell_type": "code",
   "execution_count": null,
   "metadata": {},
   "outputs": [],
   "source": [
    "Simpson_Int, Simpson_It=simpson_integration(func,0,np.pi,1000)\n",
    "print(\"Simpson's method returned %f after %d intervals \" % (Simpson_Int, Simpson_It))\n"
   ]
  }
 ],
 "metadata": {
  "kernelspec": {
   "display_name": "Python 3",
   "language": "python",
   "name": "python3"
  },
  "language_info": {
   "codemirror_mode": {
    "name": "ipython",
    "version": 3
   },
   "file_extension": ".py",
   "mimetype": "text/x-python",
   "name": "python",
   "nbconvert_exporter": "python",
   "pygments_lexer": "ipython3",
   "version": "3.7.0"
  }
 },
 "nbformat": 4,
 "nbformat_minor": 2
}
